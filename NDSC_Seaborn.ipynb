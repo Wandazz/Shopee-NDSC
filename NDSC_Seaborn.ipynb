{
  "nbformat": 4,
  "nbformat_minor": 0,
  "metadata": {
    "colab": {
      "name": "NDSC - Seaborn",
      "provenance": [],
      "collapsed_sections": [],
      "authorship_tag": "ABX9TyMjVXBD5ZJ9Mi2EtZUGDE7v",
      "include_colab_link": true
    },
    "kernelspec": {
      "name": "python3",
      "display_name": "Python 3"
    }
  },
  "cells": [
    {
      "cell_type": "markdown",
      "metadata": {
        "id": "view-in-github",
        "colab_type": "text"
      },
      "source": [
        "<a href=\"https://colab.research.google.com/github/Wandazz/Shopee-NDSC/blob/main/NDSC_Seaborn.ipynb\" target=\"_parent\"><img src=\"https://colab.research.google.com/assets/colab-badge.svg\" alt=\"Open In Colab\"/></a>"
      ]
    },
    {
      "cell_type": "code",
      "metadata": {
        "id": "uzOEE9xy5K4r"
      },
      "source": [
        "import pandas as pd\n",
        "import numpy as np"
      ],
      "execution_count": null,
      "outputs": []
    },
    {
      "cell_type": "code",
      "metadata": {
        "id": "-aBXetIXBfiG"
      },
      "source": [
        "bank = pd.read_csv('/content/bank_statement.csv')\n",
        "checkout = pd.read_csv('/content/checkout.csv')"
      ],
      "execution_count": null,
      "outputs": []
    },
    {
      "cell_type": "code",
      "metadata": {
        "colab": {
          "base_uri": "https://localhost:8080/",
          "height": 204
        },
        "id": "JbuzxOTNCjJL",
        "outputId": "1e8711ca-d302-4f99-f79e-e30738d0e548"
      },
      "source": [
        "bank.head()"
      ],
      "execution_count": null,
      "outputs": [
        {
          "output_type": "execute_result",
          "data": {
            "text/html": [
              "<div>\n",
              "<style scoped>\n",
              "    .dataframe tbody tr th:only-of-type {\n",
              "        vertical-align: middle;\n",
              "    }\n",
              "\n",
              "    .dataframe tbody tr th {\n",
              "        vertical-align: top;\n",
              "    }\n",
              "\n",
              "    .dataframe thead th {\n",
              "        text-align: right;\n",
              "    }\n",
              "</style>\n",
              "<table border=\"1\" class=\"dataframe\">\n",
              "  <thead>\n",
              "    <tr style=\"text-align: right;\">\n",
              "      <th></th>\n",
              "      <th>stmt_id</th>\n",
              "      <th>stmt_amount</th>\n",
              "      <th>desc</th>\n",
              "    </tr>\n",
              "  </thead>\n",
              "  <tbody>\n",
              "    <tr>\n",
              "      <th>0</th>\n",
              "      <td>1</td>\n",
              "      <td>100.00</td>\n",
              "      <td>INSTANT TRANSFER    BAW CGANBAWI YIWHI * LEZC ...</td>\n",
              "    </tr>\n",
              "    <tr>\n",
              "      <th>1</th>\n",
              "      <td>2</td>\n",
              "      <td>23.77</td>\n",
              "      <td>WOOG CARIZA NIWSI YO</td>\n",
              "    </tr>\n",
              "    <tr>\n",
              "      <th>2</th>\n",
              "      <td>3</td>\n",
              "      <td>18.00</td>\n",
              "      <td>ZOMAZAW MABIX ATMA *  BUGW * KZBUGW - TRANSFER...</td>\n",
              "    </tr>\n",
              "    <tr>\n",
              "      <th>3</th>\n",
              "      <td>4</td>\n",
              "      <td>21.87</td>\n",
              "      <td>TRANSFER GO LA/FA   AHHA PUYIMA        * YEBF ...</td>\n",
              "    </tr>\n",
              "    <tr>\n",
              "      <th>4</th>\n",
              "      <td>5</td>\n",
              "      <td>53.68</td>\n",
              "      <td>INSTANT TRANSFER    FABZUN WIQAT JIW FA* TEGF ...</td>\n",
              "    </tr>\n",
              "  </tbody>\n",
              "</table>\n",
              "</div>"
            ],
            "text/plain": [
              "   stmt_id  stmt_amount                                               desc\n",
              "0        1       100.00  INSTANT TRANSFER    BAW CGANBAWI YIWHI * LEZC ...\n",
              "1        2        23.77                              WOOG CARIZA NIWSI YO \n",
              "2        3        18.00  ZOMAZAW MABIX ATMA *  BUGW * KZBUGW - TRANSFER...\n",
              "3        4        21.87  TRANSFER GO LA/FA   AHHA PUYIMA        * YEBF ...\n",
              "4        5        53.68  INSTANT TRANSFER    FABZUN WIQAT JIW FA* TEGF ..."
            ]
          },
          "metadata": {
            "tags": []
          },
          "execution_count": 5
        }
      ]
    },
    {
      "cell_type": "code",
      "metadata": {
        "colab": {
          "base_uri": "https://localhost:8080/",
          "height": 204
        },
        "id": "rFF4UUCdCrH4",
        "outputId": "ec18cdde-2c01-4d06-ba59-b313a5b65679"
      },
      "source": [
        "checkout.head()"
      ],
      "execution_count": null,
      "outputs": [
        {
          "output_type": "execute_result",
          "data": {
            "text/html": [
              "<div>\n",
              "<style scoped>\n",
              "    .dataframe tbody tr th:only-of-type {\n",
              "        vertical-align: middle;\n",
              "    }\n",
              "\n",
              "    .dataframe tbody tr th {\n",
              "        vertical-align: top;\n",
              "    }\n",
              "\n",
              "    .dataframe thead th {\n",
              "        text-align: right;\n",
              "    }\n",
              "</style>\n",
              "<table border=\"1\" class=\"dataframe\">\n",
              "  <thead>\n",
              "    <tr style=\"text-align: right;\">\n",
              "      <th></th>\n",
              "      <th>ckt_id</th>\n",
              "      <th>ckt_amount</th>\n",
              "      <th>buyer_name</th>\n",
              "    </tr>\n",
              "  </thead>\n",
              "  <tbody>\n",
              "    <tr>\n",
              "      <th>0</th>\n",
              "      <td>1</td>\n",
              "      <td>20.00</td>\n",
              "      <td>SAVMUEJICE EPHOCP</td>\n",
              "    </tr>\n",
              "    <tr>\n",
              "      <th>1</th>\n",
              "      <td>2</td>\n",
              "      <td>14.91</td>\n",
              "      <td>LUHALLAK ZGANFAP HAIQAW VIP LOHK. CIQTI</td>\n",
              "    </tr>\n",
              "    <tr>\n",
              "      <th>2</th>\n",
              "      <td>3</td>\n",
              "      <td>13.20</td>\n",
              "      <td>SUQ UNAISIE</td>\n",
              "    </tr>\n",
              "    <tr>\n",
              "      <th>3</th>\n",
              "      <td>4</td>\n",
              "      <td>36.90</td>\n",
              "      <td>GOZK BIHKAUT LIV LATAPI</td>\n",
              "    </tr>\n",
              "    <tr>\n",
              "      <th>4</th>\n",
              "      <td>7</td>\n",
              "      <td>26.29</td>\n",
              "      <td>HUY ZABIRAN HATIZAN WIHMI IRYIZ</td>\n",
              "    </tr>\n",
              "  </tbody>\n",
              "</table>\n",
              "</div>"
            ],
            "text/plain": [
              "   ckt_id  ckt_amount                               buyer_name\n",
              "0       1       20.00                        SAVMUEJICE EPHOCP\n",
              "1       2       14.91  LUHALLAK ZGANFAP HAIQAW VIP LOHK. CIQTI\n",
              "2       3       13.20                              SUQ UNAISIE\n",
              "3       4       36.90                  GOZK BIHKAUT LIV LATAPI\n",
              "4       7       26.29         HUY ZABIRAN HATIZAN WIHMI IRYIZ "
            ]
          },
          "metadata": {
            "tags": []
          },
          "execution_count": 6
        }
      ]
    },
    {
      "cell_type": "code",
      "metadata": {
        "colab": {
          "base_uri": "https://localhost:8080/"
        },
        "id": "OraH6D0vCt6G",
        "outputId": "5fbcd985-a156-4439-a62d-d9414effee1e"
      },
      "source": [
        "bank.nunique()"
      ],
      "execution_count": null,
      "outputs": [
        {
          "output_type": "execute_result",
          "data": {
            "text/plain": [
              "stmt_id        240000\n",
              "stmt_amount     18340\n",
              "desc           240000\n",
              "dtype: int64"
            ]
          },
          "metadata": {
            "tags": []
          },
          "execution_count": 7
        }
      ]
    },
    {
      "cell_type": "code",
      "metadata": {
        "colab": {
          "base_uri": "https://localhost:8080/"
        },
        "id": "OF4gsYV9DDay",
        "outputId": "db3f6220-e351-450e-9099-0b537c16d94a"
      },
      "source": [
        "bank.info()"
      ],
      "execution_count": null,
      "outputs": [
        {
          "output_type": "stream",
          "text": [
            "<class 'pandas.core.frame.DataFrame'>\n",
            "RangeIndex: 240000 entries, 0 to 239999\n",
            "Data columns (total 3 columns):\n",
            " #   Column       Non-Null Count   Dtype  \n",
            "---  ------       --------------   -----  \n",
            " 0   stmt_id      240000 non-null  int64  \n",
            " 1   stmt_amount  240000 non-null  float64\n",
            " 2   desc         240000 non-null  object \n",
            "dtypes: float64(1), int64(1), object(1)\n",
            "memory usage: 5.5+ MB\n"
          ],
          "name": "stdout"
        }
      ]
    },
    {
      "cell_type": "code",
      "metadata": {
        "colab": {
          "base_uri": "https://localhost:8080/"
        },
        "id": "4cTxLtvLDGgI",
        "outputId": "216e3e05-88cb-49c0-90aa-6c1b81a19307"
      },
      "source": [
        "checkout.info()"
      ],
      "execution_count": null,
      "outputs": [
        {
          "output_type": "stream",
          "text": [
            "<class 'pandas.core.frame.DataFrame'>\n",
            "RangeIndex: 240000 entries, 0 to 239999\n",
            "Data columns (total 3 columns):\n",
            " #   Column      Non-Null Count   Dtype  \n",
            "---  ------      --------------   -----  \n",
            " 0   ckt_id      240000 non-null  int64  \n",
            " 1   ckt_amount  240000 non-null  float64\n",
            " 2   buyer_name  240000 non-null  object \n",
            "dtypes: float64(1), int64(1), object(1)\n",
            "memory usage: 5.5+ MB\n"
          ],
          "name": "stdout"
        }
      ]
    },
    {
      "cell_type": "code",
      "metadata": {
        "colab": {
          "base_uri": "https://localhost:8080/"
        },
        "id": "BiQVT_cCDPEG",
        "outputId": "47607d56-3fc6-4021-c39b-13c8079f474e"
      },
      "source": [
        "checkout.nunique()"
      ],
      "execution_count": null,
      "outputs": [
        {
          "output_type": "execute_result",
          "data": {
            "text/plain": [
              "ckt_id        240000\n",
              "ckt_amount     18340\n",
              "buyer_name    239974\n",
              "dtype: int64"
            ]
          },
          "metadata": {
            "tags": []
          },
          "execution_count": 10
        }
      ]
    },
    {
      "cell_type": "code",
      "metadata": {
        "colab": {
          "base_uri": "https://localhost:8080/"
        },
        "id": "QzL1zNEgDSTG",
        "outputId": "b9f10258-c525-4ee8-84c3-5a5ae8fe8b67"
      },
      "source": [
        "bank.isnull().sum()"
      ],
      "execution_count": null,
      "outputs": [
        {
          "output_type": "execute_result",
          "data": {
            "text/plain": [
              "stmt_id        0\n",
              "stmt_amount    0\n",
              "desc           0\n",
              "dtype: int64"
            ]
          },
          "metadata": {
            "tags": []
          },
          "execution_count": 11
        }
      ]
    },
    {
      "cell_type": "code",
      "metadata": {
        "colab": {
          "base_uri": "https://localhost:8080/"
        },
        "id": "W3nBAMPCDUej",
        "outputId": "b3db92fc-48ef-4690-dd3a-a3f1eb7273a1"
      },
      "source": [
        "checkout.isnull().sum()"
      ],
      "execution_count": null,
      "outputs": [
        {
          "output_type": "execute_result",
          "data": {
            "text/plain": [
              "ckt_id        0\n",
              "ckt_amount    0\n",
              "buyer_name    0\n",
              "dtype: int64"
            ]
          },
          "metadata": {
            "tags": []
          },
          "execution_count": 12
        }
      ]
    },
    {
      "cell_type": "code",
      "metadata": {
        "id": "HICY9UMCIUfK"
      },
      "source": [
        "spec_chars = [\"!\",'\"',\"#\",\"%\",\"&\",\"'\",\"(\",\")\",\n",
        "              \"*\",\"+\",\",\",\"-\",\".\",\"/\",\":\",\";\",\"<\",\n",
        "              \"=\",\">\",\"?\",\"@\",\"[\",\"\\\\\",\"]\",\"^\",\"_\",\n",
        "              \"`\",\"{\",\"|\",\"}\",\"~\",\"–\",'*','TRANSFER','INSTAN','TO','A/C']"
      ],
      "execution_count": null,
      "outputs": []
    },
    {
      "cell_type": "code",
      "metadata": {
        "id": "6-kqa7WgDXMn"
      },
      "source": [
        "for char in spec_chars:\n",
        "    bank['desc'] = bank['desc'].str.replace(char, ' ')"
      ],
      "execution_count": null,
      "outputs": []
    },
    {
      "cell_type": "code",
      "metadata": {
        "colab": {
          "base_uri": "https://localhost:8080/",
          "height": 204
        },
        "id": "_0BAN_ZdHEEV",
        "outputId": "197db425-7f7e-491e-a12c-282466e0b8ad"
      },
      "source": [
        "bank.head()"
      ],
      "execution_count": null,
      "outputs": [
        {
          "output_type": "execute_result",
          "data": {
            "text/html": [
              "<div>\n",
              "<style scoped>\n",
              "    .dataframe tbody tr th:only-of-type {\n",
              "        vertical-align: middle;\n",
              "    }\n",
              "\n",
              "    .dataframe tbody tr th {\n",
              "        vertical-align: top;\n",
              "    }\n",
              "\n",
              "    .dataframe thead th {\n",
              "        text-align: right;\n",
              "    }\n",
              "</style>\n",
              "<table border=\"1\" class=\"dataframe\">\n",
              "  <thead>\n",
              "    <tr style=\"text-align: right;\">\n",
              "      <th></th>\n",
              "      <th>stmt_id</th>\n",
              "      <th>stmt_amount</th>\n",
              "      <th>desc</th>\n",
              "    </tr>\n",
              "  </thead>\n",
              "  <tbody>\n",
              "    <tr>\n",
              "      <th>0</th>\n",
              "      <td>1</td>\n",
              "      <td>100.00</td>\n",
              "      <td>T      BAW CGANBAWI YIWHI   LEZC  HXA   ZLLEZ...</td>\n",
              "    </tr>\n",
              "    <tr>\n",
              "      <th>1</th>\n",
              "      <td>2</td>\n",
              "      <td>23.77</td>\n",
              "      <td>WOOG CARIZA NIWSI YO</td>\n",
              "    </tr>\n",
              "    <tr>\n",
              "      <th>2</th>\n",
              "      <td>3</td>\n",
              "      <td>18.00</td>\n",
              "      <td>ZOMAZAW MABIX ATMA    BUGW   KZBUGW       A C</td>\n",
              "    </tr>\n",
              "    <tr>\n",
              "      <th>3</th>\n",
              "      <td>4</td>\n",
              "      <td>21.87</td>\n",
              "      <td>GO LA FA   AHHA PUYIMA          YEBF  GNA   ...</td>\n",
              "    </tr>\n",
              "    <tr>\n",
              "      <th>4</th>\n",
              "      <td>5</td>\n",
              "      <td>53.68</td>\n",
              "      <td>T      FABZUN WIQAT JIW FA  TEGF  PYA   ATTEG...</td>\n",
              "    </tr>\n",
              "  </tbody>\n",
              "</table>\n",
              "</div>"
            ],
            "text/plain": [
              "   stmt_id  stmt_amount                                               desc\n",
              "0        1       100.00   T      BAW CGANBAWI YIWHI   LEZC  HXA   ZLLEZ...\n",
              "1        2        23.77                              WOOG CARIZA NIWSI YO \n",
              "2        3        18.00      ZOMAZAW MABIX ATMA    BUGW   KZBUGW       A C\n",
              "3        4        21.87    GO LA FA   AHHA PUYIMA          YEBF  GNA   ...\n",
              "4        5        53.68   T      FABZUN WIQAT JIW FA  TEGF  PYA   ATTEG..."
            ]
          },
          "metadata": {
            "tags": []
          },
          "execution_count": 15
        }
      ]
    },
    {
      "cell_type": "code",
      "metadata": {
        "colab": {
          "base_uri": "https://localhost:8080/",
          "height": 419
        },
        "id": "8qL22hQLHoA0",
        "outputId": "077734f2-79ec-45e4-b3d2-dda6b050475c"
      },
      "source": [
        "bank"
      ],
      "execution_count": null,
      "outputs": [
        {
          "output_type": "execute_result",
          "data": {
            "text/html": [
              "<div>\n",
              "<style scoped>\n",
              "    .dataframe tbody tr th:only-of-type {\n",
              "        vertical-align: middle;\n",
              "    }\n",
              "\n",
              "    .dataframe tbody tr th {\n",
              "        vertical-align: top;\n",
              "    }\n",
              "\n",
              "    .dataframe thead th {\n",
              "        text-align: right;\n",
              "    }\n",
              "</style>\n",
              "<table border=\"1\" class=\"dataframe\">\n",
              "  <thead>\n",
              "    <tr style=\"text-align: right;\">\n",
              "      <th></th>\n",
              "      <th>stmt_id</th>\n",
              "      <th>stmt_amount</th>\n",
              "      <th>desc</th>\n",
              "    </tr>\n",
              "  </thead>\n",
              "  <tbody>\n",
              "    <tr>\n",
              "      <th>0</th>\n",
              "      <td>1</td>\n",
              "      <td>100.00</td>\n",
              "      <td>T      BAW CGANBAWI YIWHI   LEZC  HXA   ZLLEZ...</td>\n",
              "    </tr>\n",
              "    <tr>\n",
              "      <th>1</th>\n",
              "      <td>2</td>\n",
              "      <td>23.77</td>\n",
              "      <td>WOOG CARIZA NIWSI YO</td>\n",
              "    </tr>\n",
              "    <tr>\n",
              "      <th>2</th>\n",
              "      <td>3</td>\n",
              "      <td>18.00</td>\n",
              "      <td>ZOMAZAW MABIX ATMA    BUGW   KZBUGW       A C</td>\n",
              "    </tr>\n",
              "    <tr>\n",
              "      <th>3</th>\n",
              "      <td>4</td>\n",
              "      <td>21.87</td>\n",
              "      <td>GO LA FA   AHHA PUYIMA          YEBF  GNA   ...</td>\n",
              "    </tr>\n",
              "    <tr>\n",
              "      <th>4</th>\n",
              "      <td>5</td>\n",
              "      <td>53.68</td>\n",
              "      <td>T      FABZUN WIQAT JIW FA  TEGF  PYA   ATTEG...</td>\n",
              "    </tr>\n",
              "    <tr>\n",
              "      <th>...</th>\n",
              "      <td>...</td>\n",
              "      <td>...</td>\n",
              "      <td>...</td>\n",
              "    </tr>\n",
              "    <tr>\n",
              "      <th>239995</th>\n",
              "      <td>239996</td>\n",
              "      <td>45.63</td>\n",
              "      <td>RV WC  XUH AQLIXA GIXYI WAX</td>\n",
              "    </tr>\n",
              "    <tr>\n",
              "      <th>239996</th>\n",
              "      <td>239997</td>\n",
              "      <td>63.30</td>\n",
              "      <td>RO MA BA   EYEKIA AT GXAZMIB    YELB  RXA   ...</td>\n",
              "    </tr>\n",
              "    <tr>\n",
              "      <th>239997</th>\n",
              "      <td>239998</td>\n",
              "      <td>9.76</td>\n",
              "      <td>T      PUZ JATITI WJAJIZAJ  TEDW  HZA   DTTED...</td>\n",
              "    </tr>\n",
              "    <tr>\n",
              "      <th>239998</th>\n",
              "      <td>239999</td>\n",
              "      <td>145.00</td>\n",
              "      <td>WUVIJA XAJVISA FISD  SURWISZ POYER   AKSURWISZ...</td>\n",
              "    </tr>\n",
              "    <tr>\n",
              "      <th>239999</th>\n",
              "      <td>240000</td>\n",
              "      <td>30.28</td>\n",
              "      <td>WEE BIAJ SUI         BCC QD SHOPEE LV XALDZ   ...</td>\n",
              "    </tr>\n",
              "  </tbody>\n",
              "</table>\n",
              "<p>240000 rows × 3 columns</p>\n",
              "</div>"
            ],
            "text/plain": [
              "        stmt_id  stmt_amount                                               desc\n",
              "0             1       100.00   T      BAW CGANBAWI YIWHI   LEZC  HXA   ZLLEZ...\n",
              "1             2        23.77                              WOOG CARIZA NIWSI YO \n",
              "2             3        18.00      ZOMAZAW MABIX ATMA    BUGW   KZBUGW       A C\n",
              "3             4        21.87    GO LA FA   AHHA PUYIMA          YEBF  GNA   ...\n",
              "4             5        53.68   T      FABZUN WIQAT JIW FA  TEGF  PYA   ATTEG...\n",
              "...         ...          ...                                                ...\n",
              "239995   239996        45.63                       RV WC  XUH AQLIXA GIXYI WAX \n",
              "239996   239997        63.30    RO MA BA   EYEKIA AT GXAZMIB    YELB  RXA   ...\n",
              "239997   239998         9.76   T      PUZ JATITI WJAJIZAJ  TEDW  HZA   DTTED...\n",
              "239998   239999       145.00  WUVIJA XAJVISA FISD  SURWISZ POYER   AKSURWISZ...\n",
              "239999   240000        30.28  WEE BIAJ SUI         BCC QD SHOPEE LV XALDZ   ...\n",
              "\n",
              "[240000 rows x 3 columns]"
            ]
          },
          "metadata": {
            "tags": []
          },
          "execution_count": 16
        }
      ]
    },
    {
      "cell_type": "code",
      "metadata": {
        "colab": {
          "base_uri": "https://localhost:8080/"
        },
        "id": "U0IcVgK2PuuG",
        "outputId": "cb73bdff-5917-43d7-964a-a3a7a3759db0"
      },
      "source": [
        "bank['desc'].values"
      ],
      "execution_count": null,
      "outputs": [
        {
          "output_type": "execute_result",
          "data": {
            "text/plain": [
              "array([' T      BAW CGANBAWI YIWHI   LEZC  HXA   ZLLEZC  FUNDSHXA   ',\n",
              "       '    WOOG CARIZA NIWSI YO ',\n",
              "       'ZOMAZAW MABIX ATMA    BUGW   KZBUGW       A C', ...,\n",
              "       ' T      PUZ JATITI WJAJIZAJ  TEDW  HZA   DTTEDW  FUNDSHZA   ',\n",
              "       'WUVIJA XAJVISA FISD  SURWISZ POYER   AKSURWISZ POYER   ',\n",
              "       'WEE BIAJ SUI         BCC QD SHOPEE LV XALDZ     XBLV XALDZ       A C'],\n",
              "      dtype=object)"
            ]
          },
          "metadata": {
            "tags": []
          },
          "execution_count": 24
        }
      ]
    },
    {
      "cell_type": "code",
      "metadata": {
        "colab": {
          "base_uri": "https://localhost:8080/"
        },
        "id": "pRWFoo4EQcpb",
        "outputId": "815f52bf-9f05-4f49-a961-7fa975ad3ec2"
      },
      "source": [
        "checkout['buyer_name']"
      ],
      "execution_count": null,
      "outputs": [
        {
          "output_type": "execute_result",
          "data": {
            "text/plain": [
              "0                               SAVMUEJICE EPHOCP\n",
              "1         LUHALLAK ZGANFAP HAIQAW VIP LOHK. CIQTI\n",
              "2                                     SUQ UNAISIE\n",
              "3                         GOZK BIHKAUT LIV LATAPI\n",
              "4                HUY ZABIRAN HATIZAN WIHMI IRYIZ \n",
              "                           ...                   \n",
              "239995                     VAQFILAPA JIPTI NORABI\n",
              "239996                JIQI CUWAIVAC FIBQI IFVACIW\n",
              "239997                MFAFHIYAB JIYVI MFAQMUTTIY \n",
              "239998              VAHID DUBRQAVIBA JH FOQL ANAD\n",
              "239999                              HAGOUF GOJBAQ\n",
              "Name: buyer_name, Length: 240000, dtype: object"
            ]
          },
          "metadata": {
            "tags": []
          },
          "execution_count": 23
        }
      ]
    },
    {
      "cell_type": "code",
      "metadata": {
        "colab": {
          "base_uri": "https://localhost:8080/"
        },
        "id": "meCk3Yu4KnJo",
        "outputId": "610086ea-08d9-4967-b352-8062b93fc6b5"
      },
      "source": [
        "! pip install fuzzymatcher"
      ],
      "execution_count": null,
      "outputs": [
        {
          "output_type": "stream",
          "text": [
            "Collecting fuzzymatcher\n",
            "  Downloading https://files.pythonhosted.org/packages/9c/36/5e8b8fff12357cb16e6e7e68910c620bdee225a6707c4e42d7f585276449/fuzzymatcher-0.0.5-py3-none-any.whl\n",
            "Collecting fuzzywuzzy\n",
            "  Downloading https://files.pythonhosted.org/packages/43/ff/74f23998ad2f93b945c0309f825be92e04e0348e062026998b5eefef4c33/fuzzywuzzy-0.18.0-py2.py3-none-any.whl\n",
            "Requirement already satisfied: pandas in /usr/local/lib/python3.6/dist-packages (from fuzzymatcher) (1.1.4)\n",
            "Requirement already satisfied: python-dateutil in /usr/local/lib/python3.6/dist-packages (from fuzzymatcher) (2.8.1)\n",
            "Collecting python-Levenshtein\n",
            "\u001b[?25l  Downloading https://files.pythonhosted.org/packages/42/a9/d1785c85ebf9b7dfacd08938dd028209c34a0ea3b1bcdb895208bd40a67d/python-Levenshtein-0.12.0.tar.gz (48kB)\n",
            "\u001b[K     |████████████████████████████████| 51kB 7.1MB/s \n",
            "\u001b[?25hCollecting metaphone\n",
            "  Downloading https://files.pythonhosted.org/packages/d4/ae/c9e4d007e32a6469be212da11d0b8e104d643f6f247d771742caf6ac6bb8/Metaphone-0.6.tar.gz\n",
            "Requirement already satisfied: numpy>=1.15.4 in /usr/local/lib/python3.6/dist-packages (from pandas->fuzzymatcher) (1.18.5)\n",
            "Requirement already satisfied: pytz>=2017.2 in /usr/local/lib/python3.6/dist-packages (from pandas->fuzzymatcher) (2018.9)\n",
            "Requirement already satisfied: six>=1.5 in /usr/local/lib/python3.6/dist-packages (from python-dateutil->fuzzymatcher) (1.15.0)\n",
            "Requirement already satisfied: setuptools in /usr/local/lib/python3.6/dist-packages (from python-Levenshtein->fuzzymatcher) (50.3.2)\n",
            "Building wheels for collected packages: python-Levenshtein, metaphone\n",
            "  Building wheel for python-Levenshtein (setup.py) ... \u001b[?25l\u001b[?25hdone\n",
            "  Created wheel for python-Levenshtein: filename=python_Levenshtein-0.12.0-cp36-cp36m-linux_x86_64.whl size=144795 sha256=ee14dbc56d83d4b6fa4c94b8c51556dba1bbda31f64914a48146f5219bf1f5cc\n",
            "  Stored in directory: /root/.cache/pip/wheels/de/c2/93/660fd5f7559049268ad2dc6d81c4e39e9e36518766eaf7e342\n",
            "  Building wheel for metaphone (setup.py) ... \u001b[?25l\u001b[?25hdone\n",
            "  Created wheel for metaphone: filename=Metaphone-0.6-cp36-none-any.whl size=13907 sha256=9a49fe956bc1665b9af35bcb6f7b3ddcd666134a5e0fafd1f13d13711604e839\n",
            "  Stored in directory: /root/.cache/pip/wheels/4e/7c/f7/162d726fc83491ef23c7a0b989005024eb83a1408c96f32eaf\n",
            "Successfully built python-Levenshtein metaphone\n",
            "Installing collected packages: fuzzywuzzy, python-Levenshtein, metaphone, fuzzymatcher\n",
            "Successfully installed fuzzymatcher-0.0.5 fuzzywuzzy-0.18.0 metaphone-0.6 python-Levenshtein-0.12.0\n"
          ],
          "name": "stdout"
        }
      ]
    },
    {
      "cell_type": "code",
      "metadata": {
        "colab": {
          "base_uri": "https://localhost:8080/",
          "height": 419
        },
        "id": "m4aNcga5HXA0",
        "outputId": "0657c9e5-7ba1-48d9-e06a-2294d8ffa539"
      },
      "source": [
        "bank"
      ],
      "execution_count": null,
      "outputs": [
        {
          "output_type": "execute_result",
          "data": {
            "text/html": [
              "<div>\n",
              "<style scoped>\n",
              "    .dataframe tbody tr th:only-of-type {\n",
              "        vertical-align: middle;\n",
              "    }\n",
              "\n",
              "    .dataframe tbody tr th {\n",
              "        vertical-align: top;\n",
              "    }\n",
              "\n",
              "    .dataframe thead th {\n",
              "        text-align: right;\n",
              "    }\n",
              "</style>\n",
              "<table border=\"1\" class=\"dataframe\">\n",
              "  <thead>\n",
              "    <tr style=\"text-align: right;\">\n",
              "      <th></th>\n",
              "      <th>stmt_id</th>\n",
              "      <th>stmt_amount</th>\n",
              "      <th>desc</th>\n",
              "    </tr>\n",
              "  </thead>\n",
              "  <tbody>\n",
              "    <tr>\n",
              "      <th>0</th>\n",
              "      <td>1</td>\n",
              "      <td>100.00</td>\n",
              "      <td>T      BAW CGANBAWI YIWHI   LEZC  HXA   ZLLEZ...</td>\n",
              "    </tr>\n",
              "    <tr>\n",
              "      <th>1</th>\n",
              "      <td>2</td>\n",
              "      <td>23.77</td>\n",
              "      <td>WOOG CARIZA NIWSI YO</td>\n",
              "    </tr>\n",
              "    <tr>\n",
              "      <th>2</th>\n",
              "      <td>3</td>\n",
              "      <td>18.00</td>\n",
              "      <td>ZOMAZAW MABIX ATMA    BUGW   KZBUGW       A C</td>\n",
              "    </tr>\n",
              "    <tr>\n",
              "      <th>3</th>\n",
              "      <td>4</td>\n",
              "      <td>21.87</td>\n",
              "      <td>GO LA FA   AHHA PUYIMA          YEBF  GNA   ...</td>\n",
              "    </tr>\n",
              "    <tr>\n",
              "      <th>4</th>\n",
              "      <td>5</td>\n",
              "      <td>53.68</td>\n",
              "      <td>T      FABZUN WIQAT JIW FA  TEGF  PYA   ATTEG...</td>\n",
              "    </tr>\n",
              "    <tr>\n",
              "      <th>...</th>\n",
              "      <td>...</td>\n",
              "      <td>...</td>\n",
              "      <td>...</td>\n",
              "    </tr>\n",
              "    <tr>\n",
              "      <th>239995</th>\n",
              "      <td>239996</td>\n",
              "      <td>45.63</td>\n",
              "      <td>RV WC  XUH AQLIXA GIXYI WAX</td>\n",
              "    </tr>\n",
              "    <tr>\n",
              "      <th>239996</th>\n",
              "      <td>239997</td>\n",
              "      <td>63.30</td>\n",
              "      <td>RO MA BA   EYEKIA AT GXAZMIB    YELB  RXA   ...</td>\n",
              "    </tr>\n",
              "    <tr>\n",
              "      <th>239997</th>\n",
              "      <td>239998</td>\n",
              "      <td>9.76</td>\n",
              "      <td>T      PUZ JATITI WJAJIZAJ  TEDW  HZA   DTTED...</td>\n",
              "    </tr>\n",
              "    <tr>\n",
              "      <th>239998</th>\n",
              "      <td>239999</td>\n",
              "      <td>145.00</td>\n",
              "      <td>WUVIJA XAJVISA FISD  SURWISZ POYER   AKSURWISZ...</td>\n",
              "    </tr>\n",
              "    <tr>\n",
              "      <th>239999</th>\n",
              "      <td>240000</td>\n",
              "      <td>30.28</td>\n",
              "      <td>WEE BIAJ SUI         BCC QD SHOPEE LV XALDZ   ...</td>\n",
              "    </tr>\n",
              "  </tbody>\n",
              "</table>\n",
              "<p>240000 rows × 3 columns</p>\n",
              "</div>"
            ],
            "text/plain": [
              "        stmt_id  stmt_amount                                               desc\n",
              "0             1       100.00   T      BAW CGANBAWI YIWHI   LEZC  HXA   ZLLEZ...\n",
              "1             2        23.77                              WOOG CARIZA NIWSI YO \n",
              "2             3        18.00      ZOMAZAW MABIX ATMA    BUGW   KZBUGW       A C\n",
              "3             4        21.87    GO LA FA   AHHA PUYIMA          YEBF  GNA   ...\n",
              "4             5        53.68   T      FABZUN WIQAT JIW FA  TEGF  PYA   ATTEG...\n",
              "...         ...          ...                                                ...\n",
              "239995   239996        45.63                       RV WC  XUH AQLIXA GIXYI WAX \n",
              "239996   239997        63.30    RO MA BA   EYEKIA AT GXAZMIB    YELB  RXA   ...\n",
              "239997   239998         9.76   T      PUZ JATITI WJAJIZAJ  TEDW  HZA   DTTED...\n",
              "239998   239999       145.00  WUVIJA XAJVISA FISD  SURWISZ POYER   AKSURWISZ...\n",
              "239999   240000        30.28  WEE BIAJ SUI         BCC QD SHOPEE LV XALDZ   ...\n",
              "\n",
              "[240000 rows x 3 columns]"
            ]
          },
          "metadata": {
            "tags": []
          },
          "execution_count": 16
        }
      ]
    },
    {
      "cell_type": "code",
      "metadata": {
        "colab": {
          "base_uri": "https://localhost:8080/",
          "height": 419
        },
        "id": "RCA0opaLSrHf",
        "outputId": "5f97fd44-f19a-4e87-c0ad-8d26c4c136e3"
      },
      "source": [
        "checkout"
      ],
      "execution_count": null,
      "outputs": [
        {
          "output_type": "execute_result",
          "data": {
            "text/html": [
              "<div>\n",
              "<style scoped>\n",
              "    .dataframe tbody tr th:only-of-type {\n",
              "        vertical-align: middle;\n",
              "    }\n",
              "\n",
              "    .dataframe tbody tr th {\n",
              "        vertical-align: top;\n",
              "    }\n",
              "\n",
              "    .dataframe thead th {\n",
              "        text-align: right;\n",
              "    }\n",
              "</style>\n",
              "<table border=\"1\" class=\"dataframe\">\n",
              "  <thead>\n",
              "    <tr style=\"text-align: right;\">\n",
              "      <th></th>\n",
              "      <th>ckt_id</th>\n",
              "      <th>ckt_amount</th>\n",
              "      <th>buyer_name</th>\n",
              "    </tr>\n",
              "  </thead>\n",
              "  <tbody>\n",
              "    <tr>\n",
              "      <th>0</th>\n",
              "      <td>1</td>\n",
              "      <td>20.00</td>\n",
              "      <td>SAVMUEJICE EPHOCP</td>\n",
              "    </tr>\n",
              "    <tr>\n",
              "      <th>1</th>\n",
              "      <td>2</td>\n",
              "      <td>14.91</td>\n",
              "      <td>LUHALLAK ZGANFAP HAIQAW VIP LOHK. CIQTI</td>\n",
              "    </tr>\n",
              "    <tr>\n",
              "      <th>2</th>\n",
              "      <td>3</td>\n",
              "      <td>13.20</td>\n",
              "      <td>SUQ UNAISIE</td>\n",
              "    </tr>\n",
              "    <tr>\n",
              "      <th>3</th>\n",
              "      <td>4</td>\n",
              "      <td>36.90</td>\n",
              "      <td>GOZK BIHKAUT LIV LATAPI</td>\n",
              "    </tr>\n",
              "    <tr>\n",
              "      <th>4</th>\n",
              "      <td>7</td>\n",
              "      <td>26.29</td>\n",
              "      <td>HUY ZABIRAN HATIZAN WIHMI IRYIZ</td>\n",
              "    </tr>\n",
              "    <tr>\n",
              "      <th>...</th>\n",
              "      <td>...</td>\n",
              "      <td>...</td>\n",
              "      <td>...</td>\n",
              "    </tr>\n",
              "    <tr>\n",
              "      <th>239995</th>\n",
              "      <td>329026</td>\n",
              "      <td>15.00</td>\n",
              "      <td>VAQFILAPA JIPTI NORABI</td>\n",
              "    </tr>\n",
              "    <tr>\n",
              "      <th>239996</th>\n",
              "      <td>329027</td>\n",
              "      <td>70.39</td>\n",
              "      <td>JIQI CUWAIVAC FIBQI IFVACIW</td>\n",
              "    </tr>\n",
              "    <tr>\n",
              "      <th>239997</th>\n",
              "      <td>329030</td>\n",
              "      <td>35.08</td>\n",
              "      <td>MFAFHIYAB JIYVI MFAQMUTTIY</td>\n",
              "    </tr>\n",
              "    <tr>\n",
              "      <th>239998</th>\n",
              "      <td>329031</td>\n",
              "      <td>20.62</td>\n",
              "      <td>VAHID DUBRQAVIBA JH FOQL ANAD</td>\n",
              "    </tr>\n",
              "    <tr>\n",
              "      <th>239999</th>\n",
              "      <td>329032</td>\n",
              "      <td>16.77</td>\n",
              "      <td>HAGOUF GOJBAQ</td>\n",
              "    </tr>\n",
              "  </tbody>\n",
              "</table>\n",
              "<p>240000 rows × 3 columns</p>\n",
              "</div>"
            ],
            "text/plain": [
              "        ckt_id  ckt_amount                               buyer_name\n",
              "0            1       20.00                        SAVMUEJICE EPHOCP\n",
              "1            2       14.91  LUHALLAK ZGANFAP HAIQAW VIP LOHK. CIQTI\n",
              "2            3       13.20                              SUQ UNAISIE\n",
              "3            4       36.90                  GOZK BIHKAUT LIV LATAPI\n",
              "4            7       26.29         HUY ZABIRAN HATIZAN WIHMI IRYIZ \n",
              "...        ...         ...                                      ...\n",
              "239995  329026       15.00                   VAQFILAPA JIPTI NORABI\n",
              "239996  329027       70.39              JIQI CUWAIVAC FIBQI IFVACIW\n",
              "239997  329030       35.08              MFAFHIYAB JIYVI MFAQMUTTIY \n",
              "239998  329031       20.62            VAHID DUBRQAVIBA JH FOQL ANAD\n",
              "239999  329032       16.77                            HAGOUF GOJBAQ\n",
              "\n",
              "[240000 rows x 3 columns]"
            ]
          },
          "metadata": {
            "tags": []
          },
          "execution_count": 17
        }
      ]
    },
    {
      "cell_type": "code",
      "metadata": {
        "id": "-GILa2N1KkkA"
      },
      "source": [
        "from pathlib import Path\n",
        "import fuzzymatcher\n",
        "from fuzzywuzzy import fuzz\n",
        "from fuzzywuzzy import process\n"
      ],
      "execution_count": null,
      "outputs": []
    },
    {
      "cell_type": "code",
      "metadata": {
        "id": "Xxt1mC5QMn6d"
      },
      "source": [
        "def match_name(desc,buyer_name min_score=0):\n",
        "    # -1 score incase we don't get any matches\n",
        "    max_score = -1\n",
        "    # Returning empty name for no match as well\n",
        "    max_name = \"\"\n",
        "    # Iternating over all names in the other\n",
        "    for name2 in list_names:\n",
        "        #Finding fuzzy match score\n",
        "        score = fuzz.ratio(desc, buyer_name)\n",
        "        # Checking if we are above our threshold and have a better score\n",
        "        if (score > min_score) & (score > max_score):\n",
        "            max_name = name2\n",
        "            max_score = score\n",
        "    return (max_name, max_score)"
      ],
      "execution_count": null,
      "outputs": []
    },
    {
      "cell_type": "code",
      "metadata": {
        "id": "7mmO_BBMzAPu"
      },
      "source": [
        "data = bank.merge(checkout, \n",
        "                        left_on='stmt_id', \n",
        "                        right_on='ckt_id')"
      ],
      "execution_count": null,
      "outputs": []
    },
    {
      "cell_type": "code",
      "metadata": {
        "colab": {
          "base_uri": "https://localhost:8080/",
          "height": 204
        },
        "id": "Vt4rN0kyzLyb",
        "outputId": "896ae92e-b1d7-4651-e37e-04fd7b57f039"
      },
      "source": [
        "data.head()"
      ],
      "execution_count": null,
      "outputs": [
        {
          "output_type": "execute_result",
          "data": {
            "text/html": [
              "<div>\n",
              "<style scoped>\n",
              "    .dataframe tbody tr th:only-of-type {\n",
              "        vertical-align: middle;\n",
              "    }\n",
              "\n",
              "    .dataframe tbody tr th {\n",
              "        vertical-align: top;\n",
              "    }\n",
              "\n",
              "    .dataframe thead th {\n",
              "        text-align: right;\n",
              "    }\n",
              "</style>\n",
              "<table border=\"1\" class=\"dataframe\">\n",
              "  <thead>\n",
              "    <tr style=\"text-align: right;\">\n",
              "      <th></th>\n",
              "      <th>stmt_id</th>\n",
              "      <th>stmt_amount</th>\n",
              "      <th>desc</th>\n",
              "      <th>ckt_id</th>\n",
              "      <th>ckt_amount</th>\n",
              "      <th>buyer_name</th>\n",
              "    </tr>\n",
              "  </thead>\n",
              "  <tbody>\n",
              "    <tr>\n",
              "      <th>0</th>\n",
              "      <td>1</td>\n",
              "      <td>100.00</td>\n",
              "      <td>T      BAW CGANBAWI YIWHI   LEZC  HXA   ZLLEZ...</td>\n",
              "      <td>1</td>\n",
              "      <td>20.00</td>\n",
              "      <td>SAVMUEJICE EPHOCP</td>\n",
              "    </tr>\n",
              "    <tr>\n",
              "      <th>1</th>\n",
              "      <td>2</td>\n",
              "      <td>23.77</td>\n",
              "      <td>WOOG CARIZA NIWSI YO</td>\n",
              "      <td>2</td>\n",
              "      <td>14.91</td>\n",
              "      <td>LUHALLAK ZGANFAP HAIQAW VIP LOHK. CIQTI</td>\n",
              "    </tr>\n",
              "    <tr>\n",
              "      <th>2</th>\n",
              "      <td>3</td>\n",
              "      <td>18.00</td>\n",
              "      <td>ZOMAZAW MABIX ATMA    BUGW   KZBUGW       A C</td>\n",
              "      <td>3</td>\n",
              "      <td>13.20</td>\n",
              "      <td>SUQ UNAISIE</td>\n",
              "    </tr>\n",
              "    <tr>\n",
              "      <th>3</th>\n",
              "      <td>4</td>\n",
              "      <td>21.87</td>\n",
              "      <td>GO LA FA   AHHA PUYIMA          YEBF  GNA   ...</td>\n",
              "      <td>4</td>\n",
              "      <td>36.90</td>\n",
              "      <td>GOZK BIHKAUT LIV LATAPI</td>\n",
              "    </tr>\n",
              "    <tr>\n",
              "      <th>4</th>\n",
              "      <td>7</td>\n",
              "      <td>9.19</td>\n",
              "      <td>SOYEGQAJR  SOYEGQAJR PIFI ULAMAX</td>\n",
              "      <td>7</td>\n",
              "      <td>26.29</td>\n",
              "      <td>HUY ZABIRAN HATIZAN WIHMI IRYIZ</td>\n",
              "    </tr>\n",
              "  </tbody>\n",
              "</table>\n",
              "</div>"
            ],
            "text/plain": [
              "   stmt_id  stmt_amount  ... ckt_amount                               buyer_name\n",
              "0        1       100.00  ...      20.00                        SAVMUEJICE EPHOCP\n",
              "1        2        23.77  ...      14.91  LUHALLAK ZGANFAP HAIQAW VIP LOHK. CIQTI\n",
              "2        3        18.00  ...      13.20                              SUQ UNAISIE\n",
              "3        4        21.87  ...      36.90                  GOZK BIHKAUT LIV LATAPI\n",
              "4        7         9.19  ...      26.29         HUY ZABIRAN HATIZAN WIHMI IRYIZ \n",
              "\n",
              "[5 rows x 6 columns]"
            ]
          },
          "metadata": {
            "tags": []
          },
          "execution_count": 20
        }
      ]
    },
    {
      "cell_type": "code",
      "metadata": {
        "id": "McwMaAxk0JQ2"
      },
      "source": [
        "def match_name(stmt_amount, desc, min_score=0):\n",
        "    # -1 score incase we don't get any matches\n",
        "    max_score = -1\n",
        "    # Returning empty name for no match as well\n",
        "    max_name = \"\"\n",
        "    # Iternating over all names in the other\n",
        "    for buyer_name in (checkout['ckt_id'], checkout['buyer_name']):\n",
        "        #Finding fuzzy match score\n",
        "        score = fuzz.ratio(desc, buyer_name)\n",
        "        # Checking if we are above our threshold and have a better score\n",
        "        if (score > min_score) & (score > max_score):\n",
        "            max_name = stmt_id\n",
        "            max_score = score\n",
        "    return (max_name)"
      ],
      "execution_count": null,
      "outputs": []
    },
    {
      "cell_type": "code",
      "metadata": {
        "id": "JEGDjwaC_3Ct"
      },
      "source": [
        "def find_match(stmt_amount, desc):\n",
        "    potential_match = checkout[checkout['ckt_amount']==stmt_amount]\n",
        "    result = []\n",
        "    for ckt_id, buyer_name in zip(potential_match['ckt_id'], potential_match['buyer_name']):\n",
        "        score = compare_fuzzy(desc, buyer_name)\n",
        "        if score > 0:\n",
        "            result.append((ckt_id,score))\n",
        "    return result"
      ],
      "execution_count": null,
      "outputs": []
    },
    {
      "cell_type": "code",
      "metadata": {
        "id": "Bvb_vuT2AY2g"
      },
      "source": [
        "def get_max(list_of_tuple):\n",
        "    max_score = -1\n",
        "    final_id = \"\"\n",
        "    min_score = 0\n",
        "    for stmt_id, score in list_of_tuple:\n",
        "        if (score > min_score) & (score > max_score):\n",
        "            max_score = score\n",
        "            final_id = stmt_id\n",
        "    return final_id"
      ],
      "execution_count": null,
      "outputs": []
    },
    {
      "cell_type": "code",
      "metadata": {
        "id": "t_dhGY0DAh4q"
      },
      "source": [
        "final_result = []\n"
      ],
      "execution_count": null,
      "outputs": []
    },
    {
      "cell_type": "code",
      "metadata": {
        "id": "xRyMWJTDAoo3"
      },
      "source": [
        "from fuzzywuzzy import process\n",
        "def compare_fuzzy(desc,buyer_name):\n",
        "    return fuzz.partial_ratio(desc,buyer_name)"
      ],
      "execution_count": null,
      "outputs": []
    },
    {
      "cell_type": "code",
      "metadata": {
        "id": "WxglHGP9Ajji"
      },
      "source": [
        "for stmt_id, stmt_amount, desc in zip(bank['stmt_id'], bank['stmt_amount'], bank['desc']):\n",
        "    ckt_id = get_max(find_match(stmt_amount, desc))\n",
        "    final_result.append((stmt_id,ckt_id))"
      ],
      "execution_count": null,
      "outputs": []
    },
    {
      "cell_type": "code",
      "metadata": {
        "id": "IIgmdBOwA8cX"
      },
      "source": [
        ""
      ],
      "execution_count": null,
      "outputs": []
    }
  ]
}